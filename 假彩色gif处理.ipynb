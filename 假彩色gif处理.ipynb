{
 "cells": [
  {
   "cell_type": "code",
   "execution_count": 1,
   "metadata": {},
   "outputs": [],
   "source": [
    "import collections\n",
    "\n",
    "import matplotlib.pyplot as plt\n",
    "import numpy as np\n",
    "import os\n",
    "import re\n",
    "import pandas"
   ]
  },
  {
   "cell_type": "code",
   "execution_count": 12,
   "metadata": {},
   "outputs": [],
   "source": [
    "from IPython.display import Image "
   ]
  },
  {
   "cell_type": "code",
   "execution_count": 13,
   "metadata": {},
   "outputs": [],
   "source": [
    "import matplotlib.image"
   ]
  },
  {
   "cell_type": "code",
   "execution_count": 9,
   "metadata": {},
   "outputs": [],
   "source": [
    "import cv2"
   ]
  },
  {
   "cell_type": "code",
   "execution_count": 2,
   "metadata": {},
   "outputs": [],
   "source": [
    "def scan_files(directory, prefix=None, postfix=None):\n",
    "    \"\"\"\n",
    "    参数directory表示目录名，prefix和postfix是目录的前后缀，默认是没有的\n",
    "    该函数可以循环扫描directory目录及其子目录下所有的文件，以列表形式返回\n",
    "    \"\"\"\n",
    "    files_list = []\n",
    "    for root, sub_dirs, files in os.walk(directory):\n",
    "        for special_file in files:\n",
    "            if postfix:\n",
    "                if special_file.endswith(postfix):\n",
    "                    files_list.append(os.path.join(root, special_file))\n",
    "            elif prefix:\n",
    "                if special_file.startswith(prefix):\n",
    "                    files_list.append(os.path.join(root, special_file))\n",
    "            else:\n",
    "                files_list.append(os.path.join(root, special_file))\n",
    "    return files_list#返回目录和子目录下所有文件"
   ]
  },
  {
   "cell_type": "code",
   "execution_count": 3,
   "metadata": {},
   "outputs": [],
   "source": [
    "temp = os.path.abspath(\"01\")"
   ]
  },
  {
   "cell_type": "code",
   "execution_count": 35,
   "metadata": {},
   "outputs": [
    {
     "name": "stdout",
     "output_type": "stream",
     "text": [
      "100600\n"
     ]
    }
   ],
   "source": [
    "string_t='/home/srtp/Desktop/testset_Haorui/20140401/01/RAD140401100600.png'\n",
    "print(string_t[-10:-4])"
   ]
  },
  {
   "cell_type": "code",
   "execution_count": 50,
   "metadata": {},
   "outputs": [],
   "source": [
    "\n",
    "def all_png(save_list):\n",
    "    # 将所有.png文件全部处理，写入i.png中\n",
    "    all_files = scan_files(temp)\n",
    "    count=0\n",
    "    for i in all_files:\n",
    "        if os.path.splitext(i)[1] == \".png\":   # 筛选png文件\n",
    "            count=i[-10:-4]#取末尾\n",
    "            print('{}'.format(i))                            # 输出所有的png文件\n",
    "            im_gray = cv2.imread('{}'.format(i), cv2.IMREAD_GRAYSCALE)\n",
    "            im_color = cv2.applyColorMap(im_gray, cv2.COLORMAP_RAINBOW)\n",
    "            matplotlib.image.imsave('{}.png'.format(count), im_color)#把矩阵保存成本地图片\n",
    "            save_list.append('{}.png'.format(count))\n",
    "            print(\"save{}.png\".format(count))"
   ]
  },
  {
   "cell_type": "code",
   "execution_count": 51,
   "metadata": {},
   "outputs": [
    {
     "name": "stdout",
     "output_type": "stream",
     "text": [
      "/home/srtp/Desktop/testset_Haorui/20140401/01/RAD140401100600.png\n",
      "save100600.png\n",
      "/home/srtp/Desktop/testset_Haorui/20140401/01/RAD140401210000.png\n",
      "save210000.png\n",
      "/home/srtp/Desktop/testset_Haorui/20140401/01/RAD140401094800.png\n",
      "save094800.png\n",
      "/home/srtp/Desktop/testset_Haorui/20140401/01/RAD140401140000.png\n",
      "save140000.png\n",
      "/home/srtp/Desktop/testset_Haorui/20140401/01/RAD140401024200.png\n",
      "save024200.png\n",
      "/home/srtp/Desktop/testset_Haorui/20140401/01/RAD140401134800.png\n",
      "save134800.png\n",
      "/home/srtp/Desktop/testset_Haorui/20140401/01/RAD140401170600.png\n",
      "save170600.png\n",
      "/home/srtp/Desktop/testset_Haorui/20140401/01/RAD140401223000.png\n",
      "save223000.png\n",
      "/home/srtp/Desktop/testset_Haorui/20140401/01/RAD140401144200.png\n",
      "save144200.png\n",
      "/home/srtp/Desktop/testset_Haorui/20140401/01/RAD140401052400.png\n",
      "save052400.png\n",
      "/home/srtp/Desktop/testset_Haorui/20140401/01/RAD140401204200.png\n",
      "save204200.png\n",
      "/home/srtp/Desktop/testset_Haorui/20140401/01/RAD140401023000.png\n",
      "save023000.png\n",
      "/home/srtp/Desktop/testset_Haorui/20140401/01/RAD140401070000.png\n",
      "save070000.png\n",
      "/home/srtp/Desktop/testset_Haorui/20140401/01/RAD140401084200.png\n",
      "save084200.png\n",
      "/home/srtp/Desktop/testset_Haorui/20140401/01/RAD140401183000.png\n",
      "save183000.png\n",
      "/home/srtp/Desktop/testset_Haorui/20140401/01/RAD140401174800.png\n",
      "save174800.png\n",
      "/home/srtp/Desktop/testset_Haorui/20140401/01/RAD140401045400.png\n",
      "save045400.png\n",
      "/home/srtp/Desktop/testset_Haorui/20140401/01/RAD140401231200.png\n",
      "save231200.png\n",
      "/home/srtp/Desktop/testset_Haorui/20140401/01/RAD140401064200.png\n",
      "save064200.png\n",
      "/home/srtp/Desktop/testset_Haorui/20140401/01/RAD140401201800.png\n",
      "save201800.png\n",
      "/home/srtp/Desktop/testset_Haorui/20140401/01/RAD140401111800.png\n",
      "save111800.png\n",
      "/home/srtp/Desktop/testset_Haorui/20140401/01/RAD140401032400.png\n",
      "save032400.png\n",
      "/home/srtp/Desktop/testset_Haorui/20140401/01/RAD140401090600.png\n",
      "save090600.png\n",
      "/home/srtp/Desktop/testset_Haorui/20140401/01/RAD140401221200.png\n",
      "save221200.png\n",
      "/home/srtp/Desktop/testset_Haorui/20140401/01/RAD140401021800.png\n",
      "save021800.png\n",
      "/home/srtp/Desktop/testset_Haorui/20140401/01/RAD140401033600.png\n",
      "save033600.png\n",
      "/home/srtp/Desktop/testset_Haorui/20140401/01/RAD140401034200.png\n",
      "save034200.png\n",
      "/home/srtp/Desktop/testset_Haorui/20140401/01/RAD140401171200.png\n",
      "save171200.png\n",
      "/home/srtp/Desktop/testset_Haorui/20140401/01/RAD140401043600.png\n",
      "save043600.png\n",
      "/home/srtp/Desktop/testset_Haorui/20140401/01/RAD140401214800.png\n",
      "save214800.png\n",
      "/home/srtp/Desktop/testset_Haorui/20140401/01/RAD140401060000.png\n",
      "save060000.png\n",
      "/home/srtp/Desktop/testset_Haorui/20140401/01/RAD140401210600.png\n",
      "save210600.png\n",
      "/home/srtp/Desktop/testset_Haorui/20140401/01/RAD140401093000.png\n",
      "save093000.png\n",
      "/home/srtp/Desktop/testset_Haorui/20140401/01/RAD140401213600.png\n",
      "save213600.png\n",
      "/home/srtp/Desktop/testset_Haorui/20140401/01/RAD140401053600.png\n",
      "save053600.png\n",
      "/home/srtp/Desktop/testset_Haorui/20140401/01/RAD140401220000.png\n",
      "save220000.png\n",
      "/home/srtp/Desktop/testset_Haorui/20140401/01/RAD140401040600.png\n",
      "save040600.png\n",
      "/home/srtp/Desktop/testset_Haorui/20140401/01/RAD140401102400.png\n",
      "save102400.png\n",
      "/home/srtp/Desktop/testset_Haorui/20140401/01/RAD140401161200.png\n",
      "save161200.png\n",
      "/home/srtp/Desktop/testset_Haorui/20140401/01/RAD140401011200.png\n",
      "save011200.png\n",
      "/home/srtp/Desktop/testset_Haorui/20140401/01/RAD140401000000.png\n",
      "save000000.png\n",
      "/home/srtp/Desktop/testset_Haorui/20140401/01/RAD140401173000.png\n",
      "save173000.png\n",
      "/home/srtp/Desktop/testset_Haorui/20140401/01/RAD140401050000.png\n",
      "save050000.png\n",
      "/home/srtp/Desktop/testset_Haorui/20140401/01/RAD140401121800.png\n",
      "save121800.png\n",
      "/home/srtp/Desktop/testset_Haorui/20140401/01/RAD140401230600.png\n",
      "save230600.png\n",
      "/home/srtp/Desktop/testset_Haorui/20140401/01/RAD140401025400.png\n",
      "save025400.png\n",
      "/home/srtp/Desktop/testset_Haorui/20140401/01/RAD140401143600.png\n",
      "save143600.png\n",
      "/home/srtp/Desktop/testset_Haorui/20140401/01/RAD140401050600.png\n",
      "save050600.png\n",
      "/home/srtp/Desktop/testset_Haorui/20140401/01/RAD140401214200.png\n",
      "save214200.png\n",
      "/home/srtp/Desktop/testset_Haorui/20140401/01/RAD140401075400.png\n",
      "save075400.png\n",
      "/home/srtp/Desktop/testset_Haorui/20140401/01/RAD140401180000.png\n",
      "save180000.png\n",
      "/home/srtp/Desktop/testset_Haorui/20140401/01/RAD140401055400.png\n",
      "save055400.png\n",
      "/home/srtp/Desktop/testset_Haorui/20140401/01/RAD140401003600.png\n",
      "save003600.png\n",
      "/home/srtp/Desktop/testset_Haorui/20140401/01/RAD140401132400.png\n",
      "save132400.png\n",
      "/home/srtp/Desktop/testset_Haorui/20140401/01/RAD140401073000.png\n",
      "save073000.png\n",
      "/home/srtp/Desktop/testset_Haorui/20140401/01/RAD140401001200.png\n",
      "save001200.png\n",
      "/home/srtp/Desktop/testset_Haorui/20140401/01/RAD140401194800.png\n",
      "save194800.png\n",
      "/home/srtp/Desktop/testset_Haorui/20140401/01/RAD140401131200.png\n",
      "save131200.png\n",
      "/home/srtp/Desktop/testset_Haorui/20140401/01/RAD140401070600.png\n",
      "save070600.png\n",
      "/home/srtp/Desktop/testset_Haorui/20140401/01/RAD140401151800.png\n",
      "save151800.png\n",
      "/home/srtp/Desktop/testset_Haorui/20140401/01/RAD140401060600.png\n",
      "save060600.png\n",
      "/home/srtp/Desktop/testset_Haorui/20140401/01/RAD140401185400.png\n",
      "save185400.png\n",
      "/home/srtp/Desktop/testset_Haorui/20140401/01/RAD140401104200.png\n",
      "save104200.png\n",
      "/home/srtp/Desktop/testset_Haorui/20140401/01/RAD140401110600.png\n",
      "save110600.png\n",
      "/home/srtp/Desktop/testset_Haorui/20140401/01/RAD140401180600.png\n",
      "save180600.png\n",
      "/home/srtp/Desktop/testset_Haorui/20140401/01/RAD140401073600.png\n",
      "save073600.png\n",
      "/home/srtp/Desktop/testset_Haorui/20140401/01/RAD140401142400.png\n",
      "save142400.png\n",
      "/home/srtp/Desktop/testset_Haorui/20140401/01/RAD140401061800.png\n",
      "save061800.png\n",
      "/home/srtp/Desktop/testset_Haorui/20140401/01/RAD140401014200.png\n",
      "save014200.png\n",
      "/home/srtp/Desktop/testset_Haorui/20140401/01/RAD140401203000.png\n",
      "save203000.png\n",
      "/home/srtp/Desktop/testset_Haorui/20140401/01/RAD140401030600.png\n",
      "save030600.png\n",
      "/home/srtp/Desktop/testset_Haorui/20140401/01/RAD140401133000.png\n",
      "save133000.png\n",
      "/home/srtp/Desktop/testset_Haorui/20140401/01/RAD140401191800.png\n",
      "save191800.png\n",
      "/home/srtp/Desktop/testset_Haorui/20140401/01/RAD140401065400.png\n",
      "save065400.png\n",
      "/home/srtp/Desktop/testset_Haorui/20140401/01/RAD140401232400.png\n",
      "save232400.png\n",
      "/home/srtp/Desktop/testset_Haorui/20140401/01/RAD140401074800.png\n",
      "save074800.png\n",
      "/home/srtp/Desktop/testset_Haorui/20140401/01/RAD140401200000.png\n",
      "save200000.png\n",
      "/home/srtp/Desktop/testset_Haorui/20140401/01/RAD140401011800.png\n",
      "save011800.png\n",
      "/home/srtp/Desktop/testset_Haorui/20140401/01/RAD140401163000.png\n",
      "save163000.png\n",
      "/home/srtp/Desktop/testset_Haorui/20140401/01/RAD140401123600.png\n",
      "save123600.png\n",
      "/home/srtp/Desktop/testset_Haorui/20140401/01/RAD140401024800.png\n",
      "save024800.png\n",
      "/home/srtp/Desktop/testset_Haorui/20140401/01/RAD140401225400.png\n",
      "save225400.png\n",
      "/home/srtp/Desktop/testset_Haorui/20140401/01/RAD140401140600.png\n",
      "save140600.png\n",
      "/home/srtp/Desktop/testset_Haorui/20140401/01/RAD140401173600.png\n",
      "save173600.png\n",
      "/home/srtp/Desktop/testset_Haorui/20140401/01/RAD140401211200.png\n",
      "save211200.png\n",
      "/home/srtp/Desktop/testset_Haorui/20140401/01/RAD140401224200.png\n",
      "save224200.png\n",
      "/home/srtp/Desktop/testset_Haorui/20140401/01/RAD140401130600.png\n",
      "save130600.png\n",
      "/home/srtp/Desktop/testset_Haorui/20140401/01/RAD140401205400.png\n",
      "save205400.png\n",
      "/home/srtp/Desktop/testset_Haorui/20140401/01/RAD140401124200.png\n",
      "save124200.png\n",
      "/home/srtp/Desktop/testset_Haorui/20140401/01/RAD140401103600.png\n",
      "save103600.png\n",
      "/home/srtp/Desktop/testset_Haorui/20140401/01/RAD140401141200.png\n",
      "save141200.png\n",
      "/home/srtp/Desktop/testset_Haorui/20140401/01/RAD140401111200.png\n",
      "save111200.png\n",
      "/home/srtp/Desktop/testset_Haorui/20140401/01/RAD140401103000.png\n",
      "save103000.png\n",
      "/home/srtp/Desktop/testset_Haorui/20140401/01/RAD140401093600.png\n",
      "save093600.png\n",
      "/home/srtp/Desktop/testset_Haorui/20140401/01/RAD140401120000.png\n",
      "save120000.png\n",
      "/home/srtp/Desktop/testset_Haorui/20140401/01/RAD140401125400.png\n",
      "save125400.png\n",
      "/home/srtp/Desktop/testset_Haorui/20140401/01/RAD140401122400.png\n",
      "save122400.png\n",
      "/home/srtp/Desktop/testset_Haorui/20140401/01/RAD140401153000.png\n",
      "save153000.png\n",
      "/home/srtp/Desktop/testset_Haorui/20140401/01/RAD140401124800.png\n",
      "save124800.png\n",
      "/home/srtp/Desktop/testset_Haorui/20140401/01/RAD140401224800.png\n",
      "save224800.png\n",
      "/home/srtp/Desktop/testset_Haorui/20140401/01/RAD140401062400.png\n",
      "save062400.png\n",
      "/home/srtp/Desktop/testset_Haorui/20140401/01/RAD140401010600.png\n",
      "save010600.png\n",
      "/home/srtp/Desktop/testset_Haorui/20140401/01/RAD140401152400.png\n",
      "save152400.png\n",
      "/home/srtp/Desktop/testset_Haorui/20140401/01/RAD140401181800.png\n",
      "save181800.png\n",
      "/home/srtp/Desktop/testset_Haorui/20140401/01/RAD140401014800.png\n",
      "save014800.png\n",
      "/home/srtp/Desktop/testset_Haorui/20140401/01/RAD140401171800.png\n",
      "save171800.png\n",
      "/home/srtp/Desktop/testset_Haorui/20140401/01/RAD140401090000.png\n"
     ]
    },
    {
     "name": "stdout",
     "output_type": "stream",
     "text": [
      "save090000.png\n",
      "/home/srtp/Desktop/testset_Haorui/20140401/01/RAD140401222400.png\n",
      "save222400.png\n",
      "/home/srtp/Desktop/testset_Haorui/20140401/01/RAD140401040000.png\n",
      "save040000.png\n",
      "/home/srtp/Desktop/testset_Haorui/20140401/01/RAD140401153600.png\n",
      "save153600.png\n",
      "/home/srtp/Desktop/testset_Haorui/20140401/01/RAD140401082400.png\n",
      "save082400.png\n",
      "/home/srtp/Desktop/testset_Haorui/20140401/01/RAD140401000600.png\n",
      "save000600.png\n",
      "/home/srtp/Desktop/testset_Haorui/20140401/01/RAD140401164800.png\n",
      "save164800.png\n",
      "/home/srtp/Desktop/testset_Haorui/20140401/01/RAD140401063600.png\n",
      "save063600.png\n",
      "/home/srtp/Desktop/testset_Haorui/20140401/01/RAD140401020000.png\n",
      "save020000.png\n",
      "/home/srtp/Desktop/testset_Haorui/20140401/01/RAD140401101800.png\n",
      "save101800.png\n",
      "/home/srtp/Desktop/testset_Haorui/20140401/01/RAD140401161800.png\n",
      "save161800.png\n",
      "/home/srtp/Desktop/testset_Haorui/20140401/01/RAD140401131800.png\n",
      "save131800.png\n",
      "/home/srtp/Desktop/testset_Haorui/20140401/01/RAD140401221800.png\n",
      "save221800.png\n",
      "/home/srtp/Desktop/testset_Haorui/20140401/01/RAD140401112400.png\n",
      "save112400.png\n",
      "/home/srtp/Desktop/testset_Haorui/20140401/01/RAD140401234200.png\n",
      "save234200.png\n",
      "/home/srtp/Desktop/testset_Haorui/20140401/01/RAD140401092400.png\n",
      "save092400.png\n",
      "/home/srtp/Desktop/testset_Haorui/20140401/01/RAD140401015400.png\n",
      "save015400.png\n",
      "/home/srtp/Desktop/testset_Haorui/20140401/01/RAD140401053000.png\n",
      "save053000.png\n",
      "/home/srtp/Desktop/testset_Haorui/20140401/01/RAD140401004200.png\n",
      "save004200.png\n",
      "/home/srtp/Desktop/testset_Haorui/20140401/01/RAD140401204800.png\n",
      "save204800.png\n",
      "/home/srtp/Desktop/testset_Haorui/20140401/01/RAD140401175400.png\n",
      "save175400.png\n",
      "/home/srtp/Desktop/testset_Haorui/20140401/01/RAD140401184200.png\n",
      "save184200.png\n",
      "/home/srtp/Desktop/testset_Haorui/20140401/01/RAD140401172400.png\n",
      "save172400.png\n",
      "/home/srtp/Desktop/testset_Haorui/20140401/01/RAD140401071200.png\n",
      "save071200.png\n",
      "/home/srtp/Desktop/testset_Haorui/20140401/01/RAD140401130000.png\n",
      "save130000.png\n",
      "/home/srtp/Desktop/testset_Haorui/20140401/01/RAD140401023600.png\n",
      "save023600.png\n",
      "/home/srtp/Desktop/testset_Haorui/20140401/01/RAD140401013600.png\n",
      "save013600.png\n",
      "/home/srtp/Desktop/testset_Haorui/20140401/01/RAD140401141800.png\n",
      "save141800.png\n",
      "/home/srtp/Desktop/testset_Haorui/20140401/01/RAD140401190600.png\n",
      "save190600.png\n",
      "/home/srtp/Desktop/testset_Haorui/20140401/01/RAD140401054200.png\n",
      "save054200.png\n",
      "/home/srtp/Desktop/testset_Haorui/20140401/01/RAD140401041800.png\n",
      "save041800.png\n",
      "/home/srtp/Desktop/testset_Haorui/20140401/01/RAD140401234800.png\n",
      "save234800.png\n",
      "/home/srtp/Desktop/testset_Haorui/20140401/01/RAD140401054800.png\n",
      "save054800.png\n",
      "/home/srtp/Desktop/testset_Haorui/20140401/01/RAD140401013000.png\n",
      "save013000.png\n",
      "/home/srtp/Desktop/testset_Haorui/20140401/01/RAD140401001800.png\n",
      "save001800.png\n",
      "/home/srtp/Desktop/testset_Haorui/20140401/01/RAD140401160600.png\n",
      "save160600.png\n",
      "/home/srtp/Desktop/testset_Haorui/20140401/01/RAD140401041200.png\n",
      "save041200.png\n",
      "/home/srtp/Desktop/testset_Haorui/20140401/01/RAD140401083600.png\n",
      "save083600.png\n",
      "/home/srtp/Desktop/testset_Haorui/20140401/01/RAD140401202400.png\n",
      "save202400.png\n",
      "/home/srtp/Desktop/testset_Haorui/20140401/01/RAD140401193000.png\n",
      "save193000.png\n",
      "/home/srtp/Desktop/testset_Haorui/20140401/01/RAD140401085400.png\n",
      "save085400.png\n",
      "/home/srtp/Desktop/testset_Haorui/20140401/01/RAD140401200600.png\n",
      "save200600.png\n",
      "/home/srtp/Desktop/testset_Haorui/20140401/01/RAD140401163600.png\n",
      "save163600.png\n",
      "/home/srtp/Desktop/testset_Haorui/20140401/01/RAD140401051800.png\n",
      "save051800.png\n",
      "/home/srtp/Desktop/testset_Haorui/20140401/01/RAD140401043000.png\n",
      "save043000.png\n",
      "/home/srtp/Desktop/testset_Haorui/20140401/01/RAD140401184800.png\n",
      "save184800.png\n",
      "/home/srtp/Desktop/testset_Haorui/20140401/01/RAD140401031800.png\n",
      "save031800.png\n",
      "/home/srtp/Desktop/testset_Haorui/20140401/01/RAD140401061200.png\n",
      "save061200.png\n",
      "/home/srtp/Desktop/testset_Haorui/20140401/01/RAD140401231800.png\n",
      "save231800.png\n",
      "/home/srtp/Desktop/testset_Haorui/20140401/01/RAD140401155400.png\n",
      "save155400.png\n",
      "/home/srtp/Desktop/testset_Haorui/20140401/01/RAD140401220600.png\n",
      "save220600.png\n",
      "/home/srtp/Desktop/testset_Haorui/20140401/01/RAD140401113000.png\n",
      "save113000.png\n",
      "/home/srtp/Desktop/testset_Haorui/20140401/01/RAD140401114800.png\n",
      "save114800.png\n",
      "/home/srtp/Desktop/testset_Haorui/20140401/01/RAD140401134200.png\n",
      "save134200.png\n",
      "/home/srtp/Desktop/testset_Haorui/20140401/01/RAD140401081800.png\n",
      "save081800.png\n",
      "/home/srtp/Desktop/testset_Haorui/20140401/01/RAD140401150600.png\n",
      "save150600.png\n",
      "/home/srtp/Desktop/testset_Haorui/20140401/01/RAD140401170000.png\n",
      "save170000.png\n",
      "/home/srtp/Desktop/testset_Haorui/20140401/01/RAD140401012400.png\n",
      "save012400.png\n",
      "/home/srtp/Desktop/testset_Haorui/20140401/01/RAD140401083000.png\n",
      "save083000.png\n",
      "/home/srtp/Desktop/testset_Haorui/20140401/01/RAD140401201200.png\n",
      "save201200.png\n",
      "/home/srtp/Desktop/testset_Haorui/20140401/01/RAD140401164200.png\n",
      "save164200.png\n",
      "/home/srtp/Desktop/testset_Haorui/20140401/01/RAD140401113600.png\n",
      "save113600.png\n",
      "/home/srtp/Desktop/testset_Haorui/20140401/01/RAD140401114200.png\n",
      "save114200.png\n",
      "/home/srtp/Desktop/testset_Haorui/20140401/01/RAD140401233600.png\n",
      "save233600.png\n",
      "/home/srtp/Desktop/testset_Haorui/20140401/01/RAD140401010000.png\n",
      "save010000.png\n",
      "/home/srtp/Desktop/testset_Haorui/20140401/01/RAD140401190000.png\n",
      "save190000.png\n",
      "/home/srtp/Desktop/testset_Haorui/20140401/01/RAD140401074200.png\n",
      "save074200.png\n",
      "/home/srtp/Desktop/testset_Haorui/20140401/01/RAD140401080600.png\n",
      "save080600.png\n",
      "/home/srtp/Desktop/testset_Haorui/20140401/01/RAD140401223600.png\n",
      "save223600.png\n",
      "/home/srtp/Desktop/testset_Haorui/20140401/01/RAD140401084800.png\n",
      "save084800.png\n",
      "/home/srtp/Desktop/testset_Haorui/20140401/01/RAD140401081200.png\n",
      "save081200.png\n",
      "/home/srtp/Desktop/testset_Haorui/20140401/01/RAD140401030000.png\n",
      "save030000.png\n",
      "/home/srtp/Desktop/testset_Haorui/20140401/01/RAD140401020600.png\n",
      "save020600.png\n",
      "/home/srtp/Desktop/testset_Haorui/20140401/01/RAD140401004800.png\n",
      "save004800.png\n",
      "/home/srtp/Desktop/testset_Haorui/20140401/01/RAD140401021200.png\n",
      "save021200.png\n",
      "/home/srtp/Desktop/testset_Haorui/20140401/01/RAD140401035400.png\n",
      "save035400.png\n",
      "/home/srtp/Desktop/testset_Haorui/20140401/01/RAD140401150000.png\n",
      "save150000.png\n",
      "/home/srtp/Desktop/testset_Haorui/20140401/01/RAD140401044800.png\n",
      "save044800.png\n",
      "/home/srtp/Desktop/testset_Haorui/20140401/01/RAD140401215400.png\n",
      "save215400.png\n",
      "/home/srtp/Desktop/testset_Haorui/20140401/01/RAD140401235400.png\n",
      "save235400.png\n",
      "/home/srtp/Desktop/testset_Haorui/20140401/01/RAD140401072400.png\n",
      "save072400.png\n",
      "/home/srtp/Desktop/testset_Haorui/20140401/01/RAD140401003000.png\n",
      "save003000.png\n",
      "/home/srtp/Desktop/testset_Haorui/20140401/01/RAD140401182400.png\n",
      "save182400.png\n",
      "/home/srtp/Desktop/testset_Haorui/20140401/01/RAD140401033000.png\n",
      "save033000.png\n",
      "/home/srtp/Desktop/testset_Haorui/20140401/01/RAD140401154200.png\n",
      "save154200.png\n",
      "/home/srtp/Desktop/testset_Haorui/20140401/01/RAD140401064800.png\n",
      "save064800.png\n",
      "/home/srtp/Desktop/testset_Haorui/20140401/01/RAD140401135400.png\n",
      "save135400.png\n",
      "/home/srtp/Desktop/testset_Haorui/20140401/01/RAD140401183600.png\n",
      "save183600.png\n",
      "/home/srtp/Desktop/testset_Haorui/20140401/01/RAD140401143000.png\n",
      "save143000.png\n",
      "/home/srtp/Desktop/testset_Haorui/20140401/01/RAD140401181200.png\n",
      "save181200.png\n",
      "/home/srtp/Desktop/testset_Haorui/20140401/01/RAD140401165400.png\n",
      "save165400.png\n",
      "/home/srtp/Desktop/testset_Haorui/20140401/01/RAD140401022400.png\n",
      "save022400.png\n",
      "/home/srtp/Desktop/testset_Haorui/20140401/01/RAD140401144800.png\n",
      "save144800.png\n",
      "/home/srtp/Desktop/testset_Haorui/20140401/01/RAD140401133600.png\n",
      "save133600.png\n",
      "/home/srtp/Desktop/testset_Haorui/20140401/01/RAD140401195400.png\n",
      "save195400.png\n",
      "/home/srtp/Desktop/testset_Haorui/20140401/01/RAD140401063000.png\n",
      "save063000.png\n",
      "/home/srtp/Desktop/testset_Haorui/20140401/01/RAD140401151200.png\n",
      "save151200.png\n",
      "/home/srtp/Desktop/testset_Haorui/20140401/01/RAD140401031200.png\n",
      "save031200.png\n",
      "/home/srtp/Desktop/testset_Haorui/20140401/01/RAD140401191200.png\n",
      "save191200.png\n",
      "/home/srtp/Desktop/testset_Haorui/20140401/01/RAD140401042400.png\n",
      "save042400.png\n",
      "/home/srtp/Desktop/testset_Haorui/20140401/01/RAD140401094200.png\n",
      "save094200.png\n",
      "/home/srtp/Desktop/testset_Haorui/20140401/01/RAD140401071800.png\n",
      "save071800.png\n",
      "/home/srtp/Desktop/testset_Haorui/20140401/01/RAD140401115400.png\n",
      "save115400.png\n",
      "/home/srtp/Desktop/testset_Haorui/20140401/01/RAD140401100000.png\n",
      "save100000.png\n",
      "/home/srtp/Desktop/testset_Haorui/20140401/01/RAD140401162400.png\n",
      "save162400.png\n",
      "/home/srtp/Desktop/testset_Haorui/20140401/01/RAD140401233000.png\n",
      "save233000.png\n",
      "/home/srtp/Desktop/testset_Haorui/20140401/01/RAD140401120600.png\n",
      "save120600.png\n",
      "/home/srtp/Desktop/testset_Haorui/20140401/01/RAD140401174200.png\n"
     ]
    },
    {
     "name": "stdout",
     "output_type": "stream",
     "text": [
      "save174200.png\n",
      "/home/srtp/Desktop/testset_Haorui/20140401/01/RAD140401212400.png\n",
      "save212400.png\n",
      "/home/srtp/Desktop/testset_Haorui/20140401/01/RAD140401154800.png\n",
      "save154800.png\n",
      "/home/srtp/Desktop/testset_Haorui/20140401/01/RAD140401193600.png\n",
      "save193600.png\n",
      "/home/srtp/Desktop/testset_Haorui/20140401/01/RAD140401101200.png\n",
      "save101200.png\n",
      "/home/srtp/Desktop/testset_Haorui/20140401/01/RAD140401091800.png\n",
      "save091800.png\n",
      "/home/srtp/Desktop/testset_Haorui/20140401/01/RAD140401211800.png\n",
      "save211800.png\n",
      "/home/srtp/Desktop/testset_Haorui/20140401/01/RAD140401110000.png\n",
      "save110000.png\n",
      "/home/srtp/Desktop/testset_Haorui/20140401/01/RAD140401034800.png\n",
      "save034800.png\n",
      "/home/srtp/Desktop/testset_Haorui/20140401/01/RAD140401091200.png\n",
      "save091200.png\n",
      "/home/srtp/Desktop/testset_Haorui/20140401/01/RAD140401005400.png\n",
      "save005400.png\n",
      "/home/srtp/Desktop/testset_Haorui/20140401/01/RAD140401104800.png\n",
      "save104800.png\n",
      "/home/srtp/Desktop/testset_Haorui/20140401/01/RAD140401192400.png\n",
      "save192400.png\n",
      "/home/srtp/Desktop/testset_Haorui/20140401/01/RAD140401194200.png\n",
      "save194200.png\n",
      "/home/srtp/Desktop/testset_Haorui/20140401/01/RAD140401230000.png\n",
      "save230000.png\n",
      "/home/srtp/Desktop/testset_Haorui/20140401/01/RAD140401160000.png\n",
      "save160000.png\n",
      "/home/srtp/Desktop/testset_Haorui/20140401/01/RAD140401203600.png\n",
      "save203600.png\n",
      "/home/srtp/Desktop/testset_Haorui/20140401/01/RAD140401105400.png\n",
      "save105400.png\n",
      "/home/srtp/Desktop/testset_Haorui/20140401/01/RAD140401051200.png\n",
      "save051200.png\n",
      "/home/srtp/Desktop/testset_Haorui/20140401/01/RAD140401080000.png\n",
      "save080000.png\n",
      "/home/srtp/Desktop/testset_Haorui/20140401/01/RAD140401145400.png\n",
      "save145400.png\n",
      "/home/srtp/Desktop/testset_Haorui/20140401/01/RAD140401044200.png\n",
      "save044200.png\n",
      "/home/srtp/Desktop/testset_Haorui/20140401/01/RAD140401002400.png\n",
      "save002400.png\n",
      "/home/srtp/Desktop/testset_Haorui/20140401/01/RAD140401121200.png\n",
      "save121200.png\n",
      "/home/srtp/Desktop/testset_Haorui/20140401/01/RAD140401123000.png\n",
      "save123000.png\n",
      "/home/srtp/Desktop/testset_Haorui/20140401/01/RAD140401095400.png\n",
      "save095400.png\n",
      "/home/srtp/Desktop/testset_Haorui/20140401/01/RAD140401213000.png\n",
      "save213000.png\n"
     ]
    }
   ],
   "source": [
    "save_list=list()\n",
    "all_png(save_list)"
   ]
  },
  {
   "cell_type": "code",
   "execution_count": 38,
   "metadata": {},
   "outputs": [
    {
     "name": "stdout",
     "output_type": "stream",
     "text": [
      "000000.png  040000.png\t080600.png  121200.png\t161800.png  202400.png\r\n",
      "000600.png  040600.png\t081200.png  121800.png\t162400.png  203000.png\r\n",
      "001200.png  041200.png\t081800.png  122400.png\t163000.png  203600.png\r\n",
      "001800.png  041800.png\t082400.png  123000.png\t163600.png  204200.png\r\n",
      "002400.png  042400.png\t083000.png  123600.png\t164200.png  204800.png\r\n",
      "003000.png  043000.png\t083600.png  124200.png\t164800.png  205400.png\r\n",
      "003600.png  043600.png\t084200.png  124800.png\t165400.png  210000.png\r\n",
      "004200.png  044200.png\t084800.png  125400.png\t170000.png  210600.png\r\n",
      "004800.png  044800.png\t085400.png  130000.png\t170600.png  211200.png\r\n",
      "005400.png  045400.png\t090000.png  130600.png\t171200.png  211800.png\r\n",
      "01\t    050000.png\t090600.png  131200.png\t171800.png  212400.png\r\n",
      "010000.png  050600.png\t091200.png  131800.png\t172400.png  213000.png\r\n",
      "010600.png  051200.png\t091800.png  132400.png\t173000.png  213600.png\r\n",
      "011200.png  051800.png\t092400.png  133000.png\t173600.png  214200.png\r\n",
      "011800.png  052400.png\t093000.png  133600.png\t174200.png  214800.png\r\n",
      "012400.png  053000.png\t093600.png  134200.png\t174800.png  215400.png\r\n",
      "013000.png  053600.png\t094200.png  134800.png\t175400.png  220000.png\r\n",
      "013600.png  054200.png\t094800.png  135400.png\t180000.png  220600.png\r\n",
      "014200.png  054800.png\t095400.png  140000.png\t180600.png  221200.png\r\n",
      "014800.png  055400.png\t100000.png  140600.png\t181200.png  221800.png\r\n",
      "015400.png  060000.png\t100600.png  141200.png\t181800.png  222400.png\r\n",
      "020000.png  060600.png\t101200.png  141800.png\t182400.png  223000.png\r\n",
      "020600.png  061200.png\t101800.png  142400.png\t183000.png  223600.png\r\n",
      "021200.png  061800.png\t102400.png  143000.png\t183600.png  224200.png\r\n",
      "021800.png  062400.png\t103000.png  143600.png\t184200.png  224800.png\r\n",
      "022400.png  063000.png\t103600.png  144200.png\t184800.png  225400.png\r\n",
      "023000.png  063600.png\t104200.png  144800.png\t185400.png  230000.png\r\n",
      "023600.png  064200.png\t104800.png  145400.png\t190000.png  230600.png\r\n",
      "024200.png  064800.png\t105400.png  150000.png\t190600.png  231200.png\r\n",
      "024800.png  065400.png\t110000.png  150600.png\t191200.png  231800.png\r\n",
      "025400.png  070000.png\t110600.png  151200.png\t191800.png  232400.png\r\n",
      "030000.png  070600.png\t111200.png  151800.png\t192400.png  233000.png\r\n",
      "030600.png  071200.png\t111800.png  152400.png\t193000.png  233600.png\r\n",
      "031200.png  071800.png\t112400.png  153000.png\t193600.png  234200.png\r\n",
      "031800.png  072400.png\t113000.png  153600.png\t194200.png  234800.png\r\n",
      "032400.png  073000.png\t113600.png  154200.png\t194800.png  235400.png\r\n",
      "033000.png  073600.png\t114200.png  154800.png\t195400.png  Untitled.ipynb\r\n",
      "033600.png  074200.png\t114800.png  155400.png\t200000.png\r\n",
      "034200.png  074800.png\t115400.png  160000.png\t200600.png\r\n",
      "034800.png  075400.png\t120000.png  160600.png\t201200.png\r\n",
      "035400.png  080000.png\t120600.png  161200.png\t201800.png\r\n"
     ]
    }
   ],
   "source": [
    "!ls"
   ]
  },
  {
   "cell_type": "code",
   "execution_count": 52,
   "metadata": {},
   "outputs": [
    {
     "data": {
      "text/plain": [
       "'100600.png'"
      ]
     },
     "execution_count": 52,
     "metadata": {},
     "output_type": "execute_result"
    }
   ],
   "source": [
    "save_list[0]"
   ]
  },
  {
   "cell_type": "code",
   "execution_count": 53,
   "metadata": {},
   "outputs": [],
   "source": [
    "save_list.sort(key=lambda x: int(x.split('.')[0]))"
   ]
  },
  {
   "cell_type": "code",
   "execution_count": 54,
   "metadata": {},
   "outputs": [
    {
     "data": {
      "text/plain": [
       "'000000.png'"
      ]
     },
     "execution_count": 54,
     "metadata": {},
     "output_type": "execute_result"
    }
   ],
   "source": [
    "save_list[0]"
   ]
  },
  {
   "cell_type": "code",
   "execution_count": 39,
   "metadata": {},
   "outputs": [
    {
     "data": {
      "image/png": "[encoded data removed]",
      "text/plain": [
       "<IPython.core.display.Image object>"
      ]
     },
     "metadata": {},
     "output_type": "display_data"
    }
   ],
   "source": [
    "pil_img4 = Image(filename='201800.png')\n",
    "display(pil_img4)#jupyter内展示图片"
   ]
  },
  {
   "cell_type": "code",
   "execution_count": 40,
   "metadata": {},
   "outputs": [
    {
     "name": "stdout",
     "output_type": "stream",
     "text": [
      "100600\n"
     ]
    }
   ],
   "source": [
    "string_t='/home/srtp/Desktop/testset_Haorui/20140401/01/RAD140401100600.png'\n",
    "print(int(string_t[-10:-4]))"
   ]
  },
  {
   "cell_type": "code",
   "execution_count": null,
   "metadata": {},
   "outputs": [],
   "source": [
    "\n"
   ]
  },
  {
   "cell_type": "code",
   "execution_count": 19,
   "metadata": {},
   "outputs": [],
   "source": [
    "import imageio"
   ]
  },
  {
   "cell_type": "code",
   "execution_count": 25,
   "metadata": {},
   "outputs": [],
   "source": [
    "def create_gif(image_list, gif_name, durations):\n",
    "    name = []\n",
    "    # 把图片加进列表\n",
    "    for i in image_list:\n",
    "        name.append(imageio.imread(i))\n",
    "    # 保存为gif图\n",
    "    imageio.mimsave(gif_name, name, 'GIF', duration=durations)\n"
   ]
  },
  {
   "cell_type": "code",
   "execution_count": 23,
   "metadata": {},
   "outputs": [],
   "source": [
    "#\"/home/srtp/Desktop/testset_Haorui/20140401/01/RAD140401000000.png\"\n",
    "#\"/home/srtp/Desktop/testset_Haorui/20140401/01/RAD140401235400.png\"\n",
    "name_list=list()\n",
    "for i in range(0,241):\n",
    "    name_list.append('{}.png'.format(i))"
   ]
  },
  {
   "cell_type": "code",
   "execution_count": null,
   "metadata": {},
   "outputs": [],
   "source": []
  },
  {
   "cell_type": "code",
   "execution_count": 55,
   "metadata": {},
   "outputs": [
    {
     "name": "stdout",
     "output_type": "stream",
     "text": [
      "success\n"
     ]
    }
   ],
   "source": [
    "main_create(save_list)"
   ]
  },
  {
   "cell_type": "code",
   "execution_count": 63,
   "metadata": {},
   "outputs": [
    {
     "data": {
      "text/plain": [
       "240"
      ]
     },
     "execution_count": 63,
     "metadata": {},
     "output_type": "execute_result"
    }
   ],
   "source": [
    "len(save_list)"
   ]
  },
  {
   "cell_type": "code",
   "execution_count": 64,
   "metadata": {},
   "outputs": [],
   "source": [
    "temp_list_one=save_list[0:60]"
   ]
  },
  {
   "cell_type": "code",
   "execution_count": 65,
   "metadata": {},
   "outputs": [
    {
     "data": {
      "text/plain": [
       "60"
      ]
     },
     "execution_count": 65,
     "metadata": {},
     "output_type": "execute_result"
    }
   ],
   "source": [
    "len(temp_list_one)"
   ]
  },
  {
   "cell_type": "code",
   "execution_count": 70,
   "metadata": {},
   "outputs": [],
   "source": [
    "def main_create(name_list,gif_name):\n",
    "    duration = 0.2#每张图片停留时间，单位s\n",
    "    create_gif(name_list, gif_name, duration)\n",
    "    print(\"success\")"
   ]
  },
  {
   "cell_type": "code",
   "execution_count": 73,
   "metadata": {},
   "outputs": [
    {
     "name": "stdout",
     "output_type": "stream",
     "text": [
      "success\n"
     ]
    }
   ],
   "source": [
    "main_create(temp_list_one,\"0to59.gif\")"
   ]
  },
  {
   "cell_type": "code",
   "execution_count": 72,
   "metadata": {},
   "outputs": [],
   "source": [
    "temp_list_two=save_list[60:120]"
   ]
  },
  {
   "cell_type": "code",
   "execution_count": 74,
   "metadata": {},
   "outputs": [
    {
     "name": "stdout",
     "output_type": "stream",
     "text": [
      "success\n"
     ]
    }
   ],
   "source": [
    "main_create(temp_list_two,\"60to119.gif\")"
   ]
  },
  {
   "cell_type": "code",
   "execution_count": 75,
   "metadata": {},
   "outputs": [],
   "source": [
    "temp_list_three=save_list[120:180]"
   ]
  },
  {
   "cell_type": "code",
   "execution_count": 76,
   "metadata": {},
   "outputs": [
    {
     "name": "stdout",
     "output_type": "stream",
     "text": [
      "success\n"
     ]
    }
   ],
   "source": [
    "main_create(temp_list_three,\"120to179.gif\")"
   ]
  },
  {
   "cell_type": "code",
   "execution_count": 78,
   "metadata": {},
   "outputs": [],
   "source": [
    "temp_list_four=save_list[180:240]"
   ]
  },
  {
   "cell_type": "code",
   "execution_count": 79,
   "metadata": {},
   "outputs": [
    {
     "name": "stdout",
     "output_type": "stream",
     "text": [
      "success\n"
     ]
    }
   ],
   "source": [
    "main_create(temp_list_four,\"180to239.gif\")"
   ]
  },
  {
   "cell_type": "code",
   "execution_count": null,
   "metadata": {},
   "outputs": [],
   "source": []
  }
 ],
 "metadata": {
  "kernelspec": {
   "display_name": "Python 3",
   "language": "python",
   "name": "python3"
  },
  "language_info": {
   "codemirror_mode": {
    "name": "ipython",
    "version": 3
   },
   "file_extension": ".py",
   "mimetype": "text/x-python",
   "name": "python",
   "nbconvert_exporter": "python",
   "pygments_lexer": "ipython3",
   "version": "3.6.9"
  }
 },
 "nbformat": 4,
 "nbformat_minor": 2
}
